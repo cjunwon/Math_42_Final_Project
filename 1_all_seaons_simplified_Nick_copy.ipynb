{
 "cells": [
  {
   "cell_type": "code",
   "execution_count": 1,
   "metadata": {},
   "outputs": [],
   "source": [
    "import pandas as pd\n",
    "import numpy as np\n",
    "from datetime import datetime\n",
    "date_format = \"%Y-%m-%d\""
   ]
  },
  {
   "cell_type": "code",
   "execution_count": 2,
   "metadata": {},
   "outputs": [],
   "source": [
    "all_seasons = pd.read_csv('all_seasons.csv')\n",
    "all_seasons = all_seasons[['datetime', 'conditions']]"
   ]
  },
  {
   "cell_type": "code",
   "execution_count": 3,
   "metadata": {},
   "outputs": [
    {
     "data": {
      "text/html": [
       "<div>\n",
       "<style scoped>\n",
       "    .dataframe tbody tr th:only-of-type {\n",
       "        vertical-align: middle;\n",
       "    }\n",
       "\n",
       "    .dataframe tbody tr th {\n",
       "        vertical-align: top;\n",
       "    }\n",
       "\n",
       "    .dataframe thead th {\n",
       "        text-align: right;\n",
       "    }\n",
       "</style>\n",
       "<table border=\"1\" class=\"dataframe\">\n",
       "  <thead>\n",
       "    <tr style=\"text-align: right;\">\n",
       "      <th></th>\n",
       "      <th>datetime</th>\n",
       "      <th>conditions</th>\n",
       "    </tr>\n",
       "  </thead>\n",
       "  <tbody>\n",
       "    <tr>\n",
       "      <th>0</th>\n",
       "      <td>2000-01-01</td>\n",
       "      <td>Partially cloudy</td>\n",
       "    </tr>\n",
       "    <tr>\n",
       "      <th>1</th>\n",
       "      <td>2000-01-02</td>\n",
       "      <td>Clear</td>\n",
       "    </tr>\n",
       "    <tr>\n",
       "      <th>2</th>\n",
       "      <td>2000-01-03</td>\n",
       "      <td>Clear</td>\n",
       "    </tr>\n",
       "    <tr>\n",
       "      <th>3</th>\n",
       "      <td>2000-01-04</td>\n",
       "      <td>Clear</td>\n",
       "    </tr>\n",
       "    <tr>\n",
       "      <th>4</th>\n",
       "      <td>2000-01-05</td>\n",
       "      <td>Clear</td>\n",
       "    </tr>\n",
       "  </tbody>\n",
       "</table>\n",
       "</div>"
      ],
      "text/plain": [
       "     datetime        conditions\n",
       "0  2000-01-01  Partially cloudy\n",
       "1  2000-01-02             Clear\n",
       "2  2000-01-03             Clear\n",
       "3  2000-01-04             Clear\n",
       "4  2000-01-05             Clear"
      ]
     },
     "execution_count": 3,
     "metadata": {},
     "output_type": "execute_result"
    }
   ],
   "source": [
    "all_seasons.head()"
   ]
  },
  {
   "cell_type": "code",
   "execution_count": 4,
   "metadata": {},
   "outputs": [],
   "source": [
    "simplifier = {'Overcast':'no_rain', 'Partially cloudy':'no_rain', 'Clear':'no_rain', 'Rain, Partially cloudy':'rain', 'Rain':'rain', 'Rain, Overcast':'rain'}\n",
    "\n",
    "all_seasons['condition'] = all_seasons['conditions'].map(simplifier)"
   ]
  },
  {
   "cell_type": "code",
   "execution_count": 5,
   "metadata": {},
   "outputs": [
    {
     "data": {
      "text/html": [
       "<div>\n",
       "<style scoped>\n",
       "    .dataframe tbody tr th:only-of-type {\n",
       "        vertical-align: middle;\n",
       "    }\n",
       "\n",
       "    .dataframe tbody tr th {\n",
       "        vertical-align: top;\n",
       "    }\n",
       "\n",
       "    .dataframe thead th {\n",
       "        text-align: right;\n",
       "    }\n",
       "</style>\n",
       "<table border=\"1\" class=\"dataframe\">\n",
       "  <thead>\n",
       "    <tr style=\"text-align: right;\">\n",
       "      <th></th>\n",
       "      <th>datetime</th>\n",
       "      <th>conditions</th>\n",
       "      <th>condition</th>\n",
       "    </tr>\n",
       "  </thead>\n",
       "  <tbody>\n",
       "    <tr>\n",
       "      <th>0</th>\n",
       "      <td>2000-01-01</td>\n",
       "      <td>Partially cloudy</td>\n",
       "      <td>no_rain</td>\n",
       "    </tr>\n",
       "    <tr>\n",
       "      <th>1</th>\n",
       "      <td>2000-01-02</td>\n",
       "      <td>Clear</td>\n",
       "      <td>no_rain</td>\n",
       "    </tr>\n",
       "    <tr>\n",
       "      <th>2</th>\n",
       "      <td>2000-01-03</td>\n",
       "      <td>Clear</td>\n",
       "      <td>no_rain</td>\n",
       "    </tr>\n",
       "    <tr>\n",
       "      <th>3</th>\n",
       "      <td>2000-01-04</td>\n",
       "      <td>Clear</td>\n",
       "      <td>no_rain</td>\n",
       "    </tr>\n",
       "    <tr>\n",
       "      <th>4</th>\n",
       "      <td>2000-01-05</td>\n",
       "      <td>Clear</td>\n",
       "      <td>no_rain</td>\n",
       "    </tr>\n",
       "  </tbody>\n",
       "</table>\n",
       "</div>"
      ],
      "text/plain": [
       "     datetime        conditions condition\n",
       "0  2000-01-01  Partially cloudy   no_rain\n",
       "1  2000-01-02             Clear   no_rain\n",
       "2  2000-01-03             Clear   no_rain\n",
       "3  2000-01-04             Clear   no_rain\n",
       "4  2000-01-05             Clear   no_rain"
      ]
     },
     "execution_count": 5,
     "metadata": {},
     "output_type": "execute_result"
    }
   ],
   "source": [
    "all_seasons.head()"
   ]
  },
  {
   "cell_type": "code",
   "execution_count": 6,
   "metadata": {},
   "outputs": [],
   "source": [
    "all_seasons = all_seasons[['datetime', 'condition']]"
   ]
  },
  {
   "cell_type": "code",
   "execution_count": 7,
   "metadata": {},
   "outputs": [
    {
     "data": {
      "text/html": [
       "<div>\n",
       "<style scoped>\n",
       "    .dataframe tbody tr th:only-of-type {\n",
       "        vertical-align: middle;\n",
       "    }\n",
       "\n",
       "    .dataframe tbody tr th {\n",
       "        vertical-align: top;\n",
       "    }\n",
       "\n",
       "    .dataframe thead th {\n",
       "        text-align: right;\n",
       "    }\n",
       "</style>\n",
       "<table border=\"1\" class=\"dataframe\">\n",
       "  <thead>\n",
       "    <tr style=\"text-align: right;\">\n",
       "      <th></th>\n",
       "      <th>datetime</th>\n",
       "      <th>condition</th>\n",
       "    </tr>\n",
       "  </thead>\n",
       "  <tbody>\n",
       "    <tr>\n",
       "      <th>0</th>\n",
       "      <td>2000-01-01</td>\n",
       "      <td>no_rain</td>\n",
       "    </tr>\n",
       "    <tr>\n",
       "      <th>1</th>\n",
       "      <td>2000-01-02</td>\n",
       "      <td>no_rain</td>\n",
       "    </tr>\n",
       "    <tr>\n",
       "      <th>2</th>\n",
       "      <td>2000-01-03</td>\n",
       "      <td>no_rain</td>\n",
       "    </tr>\n",
       "    <tr>\n",
       "      <th>3</th>\n",
       "      <td>2000-01-04</td>\n",
       "      <td>no_rain</td>\n",
       "    </tr>\n",
       "    <tr>\n",
       "      <th>4</th>\n",
       "      <td>2000-01-05</td>\n",
       "      <td>no_rain</td>\n",
       "    </tr>\n",
       "  </tbody>\n",
       "</table>\n",
       "</div>"
      ],
      "text/plain": [
       "     datetime condition\n",
       "0  2000-01-01   no_rain\n",
       "1  2000-01-02   no_rain\n",
       "2  2000-01-03   no_rain\n",
       "3  2000-01-04   no_rain\n",
       "4  2000-01-05   no_rain"
      ]
     },
     "execution_count": 7,
     "metadata": {},
     "output_type": "execute_result"
    }
   ],
   "source": [
    "all_seasons.head()"
   ]
  },
  {
   "cell_type": "markdown",
   "metadata": {},
   "source": [
    "We will refer to rain is 'R' and no rain as 'N'"
   ]
  },
  {
   "cell_type": "code",
   "execution_count": 8,
   "metadata": {},
   "outputs": [],
   "source": [
    "R_after_R_count = 0.0\n",
    "N_after_R_count = 0.0\n",
    "\n",
    "R_after_N_count = 0.0\n",
    "N_after_N_count = 0.0"
   ]
  },
  {
   "cell_type": "code",
   "execution_count": 9,
   "metadata": {},
   "outputs": [],
   "source": [
    "all_seasons['condition_shift'] = all_seasons['condition'].shift(-1)\n",
    "\n",
    "for i in range(len(all_seasons)):\n",
    "    if all_seasons.loc[i, 'condition'] == 'rain' and all_seasons.loc[i, 'condition_shift'] == 'rain':\n",
    "        R_after_R_count += 1\n",
    "    elif all_seasons.loc[i, 'condition'] == 'no_rain' and all_seasons.loc[i, 'condition_shift'] == 'rain':\n",
    "        N_after_R_count += 1\n",
    "    elif all_seasons.loc[i, 'condition'] == 'rain' and all_seasons.loc[i, 'condition_shift'] == 'no_rain':\n",
    "        R_after_N_count += 1\n",
    "    elif all_seasons.loc[i, 'condition'] == 'no_rain' and all_seasons.loc[i, 'condition_shift'] == 'no_rain':\n",
    "        N_after_N_count += 1"
   ]
  },
  {
   "cell_type": "code",
   "execution_count": 10,
   "metadata": {},
   "outputs": [],
   "source": [
    "current_R_total = R_after_R_count + N_after_R_count\n",
    "current_N_total = R_after_N_count + N_after_N_count"
   ]
  },
  {
   "cell_type": "code",
   "execution_count": 11,
   "metadata": {},
   "outputs": [],
   "source": [
    "R_after_R_prob = R_after_R_count / current_R_total\n",
    "N_after_R_prob = N_after_R_count / current_R_total\n",
    "\n",
    "R_after_N_prob = R_after_N_count / current_N_total\n",
    "N_after_N_prob = N_after_N_count / current_N_total"
   ]
  },
  {
   "cell_type": "code",
   "execution_count": 12,
   "metadata": {},
   "outputs": [
    {
     "name": "stdout",
     "output_type": "stream",
     "text": [
      "0.46397941680960547\n",
      "0.5360205831903945\n",
      "0.08712015611931977\n",
      "0.9128798438806802\n"
     ]
    }
   ],
   "source": [
    "# Printing our probabilities for 2x2 transition matrix:\n",
    "print(R_after_R_prob)\n",
    "print(N_after_R_prob)\n",
    "print(R_after_N_prob)\n",
    "print(N_after_N_prob)"
   ]
  },
  {
   "cell_type": "code",
   "execution_count": 13,
   "metadata": {},
   "outputs": [
    {
     "name": "stdout",
     "output_type": "stream",
     "text": [
      "1.0\n",
      "1.0\n"
     ]
    }
   ],
   "source": [
    "# Checking that each row in the transition matrix adds up to 1:\n",
    "print(R_after_R_prob + N_after_R_prob)\n",
    "print(R_after_N_prob + N_after_N_prob)"
   ]
  },
  {
   "cell_type": "code",
   "execution_count": 14,
   "metadata": {},
   "outputs": [],
   "source": [
    "# Creating the transition matrix:\n",
    "transition_name = [['RR', 'RN'], ['RN', 'NN']]\n",
    "transition_matrix = [[R_after_R_prob, N_after_R_prob], [R_after_N_prob, N_after_N_prob]]"
   ]
  },
  {
   "cell_type": "code",
   "execution_count": 15,
   "metadata": {},
   "outputs": [
    {
     "name": "stdout",
     "output_type": "stream",
     "text": [
      "[[0.46397941680960547, 0.5360205831903945], [0.08712015611931977, 0.9128798438806802]]\n"
     ]
    }
   ],
   "source": [
    "print(transition_matrix)"
   ]
  },
  {
   "cell_type": "code",
   "execution_count": 18,
   "metadata": {},
   "outputs": [
    {
     "data": {
      "text/plain": [
       "array([[0.46397942, 0.53602058],\n",
       "       [0.08712016, 0.91287984]])"
      ]
     },
     "execution_count": 18,
     "metadata": {},
     "output_type": "execute_result"
    }
   ],
   "source": [
    "A = np.array([[0.46397941680960547, 0.5360205831903945], [0.08712015611931977, 0.9128798438806802]])\n",
    "A"
   ]
  },
  {
   "cell_type": "code",
   "execution_count": 17,
   "metadata": {},
   "outputs": [
    {
     "data": {
      "text/plain": [
       "{0: 'Rain', 1: 'No Rain'}"
      ]
     },
     "execution_count": 17,
     "metadata": {},
     "output_type": "execute_result"
    }
   ],
   "source": [
    "state = {\n",
    "    0:\"Rain\",\n",
    "    1:\"No Rain\"\n",
    "}\n",
    "state"
   ]
  },
  {
   "cell_type": "code",
   "execution_count": 20,
   "metadata": {},
   "outputs": [
    {
     "name": "stdout",
     "output_type": "stream",
     "text": [
      "Rain ---> No Rain ---> No Rain ---> No Rain ---> Rain ---> No Rain ---> No Rain ---> No Rain ---> No Rain ---> No Rain ---> No Rain ---> No Rain ---> No Rain ---> No Rain ---> No Rain ---> Rain ---> Rain ---> Rain ---> Rain ---> No Rain ---> STOP\n"
     ]
    }
   ],
   "source": [
    "n = 20 #how many steps to test\n",
    "start_state = 0 #0 = Rain\n",
    "print(state[start_state],\"---> \", end=\"\")\n",
    "prev_state = start_state\n",
    "\n",
    "while n-1:\n",
    "    curr_state = np.random.choice([0,1], p=A[prev_state]) #taking the probabolity from the matrix representation\n",
    "    print(state[curr_state],\"---> \", end=\"\")\n",
    "    prev_state = curr_state\n",
    "    n -= 1\n",
    "print(\"STOP\")"
   ]
  },
  {
   "cell_type": "code",
   "execution_count": 21,
   "metadata": {},
   "outputs": [
    {
     "name": "stdout",
     "output_type": "stream",
     "text": [
      "No Rain ---> No Rain ---> No Rain ---> No Rain ---> No Rain ---> Rain ---> Rain ---> No Rain ---> No Rain ---> No Rain ---> No Rain ---> No Rain ---> No Rain ---> No Rain ---> No Rain ---> Rain ---> No Rain ---> No Rain ---> No Rain ---> No Rain ---> STOP\n"
     ]
    }
   ],
   "source": [
    "n = 20 #how many steps to test\n",
    "start_state = 1 # NO Rain\n",
    "print(state[start_state],\"---> \", end=\"\")\n",
    "prev_state = start_state\n",
    "\n",
    "while n-1:\n",
    "    curr_state = np.random.choice([0,1], p=A[prev_state]) #taking the probabolity from the matrix representation\n",
    "    print(state[curr_state],\"---> \", end=\"\")\n",
    "    prev_state = curr_state\n",
    "    n -= 1\n",
    "print(\"STOP\")"
   ]
  }
 ],
 "metadata": {
  "kernelspec": {
   "display_name": "Python 3.9.6 64-bit",
   "language": "python",
   "name": "python3"
  },
  "language_info": {
   "codemirror_mode": {
    "name": "ipython",
    "version": 3
   },
   "file_extension": ".py",
   "mimetype": "text/x-python",
   "name": "python",
   "nbconvert_exporter": "python",
   "pygments_lexer": "ipython3",
   "version": "3"
  },
  "vscode": {
   "interpreter": {
    "hash": "31f2aee4e71d21fbe5cf8b01ff0e069b9275f58929596ceb00d14d90e3e16cd6"
   }
  }
 },
 "nbformat": 4,
 "nbformat_minor": 4
}
