{
 "cells": [
  {
   "cell_type": "code",
   "execution_count": 2,
   "id": "db5f986f-d786-4971-92dc-4f10fdcca51f",
   "metadata": {},
   "outputs": [],
   "source": [
    "import numpy as np"
   ]
  },
  {
   "cell_type": "code",
   "execution_count": 4,
   "id": "740af894-ec10-4782-b7a8-84d37df4c865",
   "metadata": {},
   "outputs": [
    {
     "data": {
      "text/plain": [
       "{0: 'Hot', 1: 'Cold', 2: 'Okay'}"
      ]
     },
     "execution_count": 4,
     "metadata": {},
     "output_type": "execute_result"
    }
   ],
   "source": [
    "state = {\n",
    "    0:\"Hot\",\n",
    "    1:\"Cold\",\n",
    "    2:\"Okay\"\n",
    "}\n",
    "state"
   ]
  },
  {
   "cell_type": "code",
   "execution_count": 6,
   "id": "3c371565-7b84-42a0-be94-3c69b4e1cf71",
   "metadata": {},
   "outputs": [
    {
     "data": {
      "text/plain": [
       "array([[0.5, 0.3, 0.2],\n",
       "       [0.2, 0.5, 0.3],\n",
       "       [0.5, 0. , 0.5]])"
      ]
     },
     "execution_count": 6,
     "metadata": {},
     "output_type": "execute_result"
    }
   ],
   "source": [
    "A = np.array([[0.5,0.3,0.2],[0.2,0.5,0.3],[0.5,0.0,0.5]])\n",
    "A"
   ]
  },
  {
   "cell_type": "code",
   "execution_count": 15,
   "id": "c48bac01-86c3-4271-adaa-e7addae6b5b5",
   "metadata": {},
   "outputs": [
    {
     "name": "stdout",
     "output_type": "stream",
     "text": [
      "Hot ---> Hot ---> Hot ---> Hot ---> Cold ---> Cold ---> Okay ---> Hot ---> Hot ---> Cold ---> STOP\n"
     ]
    }
   ],
   "source": [
    "n = 10 #how many steps to test\n",
    "start_state = 0 #0 = Hot\n",
    "print(state[start_state],\"---> \", end=\"\")\n",
    "prev_state = start_state\n",
    "\n",
    "while n-1:\n",
    "    curr_state = np.random.choice([0,1,2], p=A[prev_state]) #taking the probabolity from the matrix representation\n",
    "    print(state[curr_state],\"---> \", end=\"\")\n",
    "    prev_state = curr_state\n",
    "    n -= 1\n",
    "print(\"STOP\")"
   ]
  },
  {
   "cell_type": "code",
   "execution_count": 17,
   "id": "bcee9fcc-2c83-4a0a-9506-6b0e6ca5aea6",
   "metadata": {},
   "outputs": [
    {
     "name": "stdout",
     "output_type": "stream",
     "text": [
      "SD =  [0.423525 0.253853 0.322623]\n"
     ]
    }
   ],
   "source": [
    "# Stationary Distribution, using Monte Carlo\n",
    "n = 10**6\n",
    "start_state = 0 \n",
    "pi = np.array([0,0,0])\n",
    "pi[start_state] = 1\n",
    "prev_state = start_state\n",
    "\n",
    "i = 0\n",
    "while i<n:\n",
    "    curr_state = np.random.choice([0,1,2], p=A[prev_state])\n",
    "    pi[curr_state]+=1\n",
    "    prev_state = curr_state\n",
    "    i += 1\n",
    "print(\"SD = \", pi/n)"
   ]
  },
  {
   "cell_type": "code",
   "execution_count": 19,
   "id": "f3b06b7b-e6b2-4306-9129-4eee850cd177",
   "metadata": {},
   "outputs": [
    {
     "name": "stdout",
     "output_type": "stream",
     "text": [
      "left eigen vectors = \n",
      " [[-0.71840267+0.j          0.65465367+0.j          0.65465367-0.j        ]\n",
      " [-0.4310416 +0.j         -0.54554473+0.36187343j -0.54554473-0.36187343j]\n",
      " [-0.54598603+0.j         -0.10910895-0.36187343j -0.10910895+0.36187343j]] \n",
      "\n",
      "eigen vales = \n",
      " [1.  +0.j         0.25+0.16583124j 0.25-0.16583124j]\n"
     ]
    }
   ],
   "source": [
    "# Stationary Distribution, by finding Left Eigen Vectors\n",
    "import scipy.linalg\n",
    "values, left = scipy.linalg.eig(A, right = False, left = True)\n",
    "\n",
    "print(\"left eigen vectors = \\n\", left, \"\\n\")\n",
    "print(\"eigen vales = \\n\", values)"
   ]
  },
  {
   "cell_type": "code",
   "execution_count": 21,
   "id": "a59c3bd8-2fa4-4f45-ac16-6a4775638b2c",
   "metadata": {},
   "outputs": [
    {
     "data": {
      "text/plain": [
       "[0.4237288135593219, 0.25423728813559343, 0.32203389830508466]"
      ]
     },
     "execution_count": 21,
     "metadata": {},
     "output_type": "execute_result"
    }
   ],
   "source": [
    "pi = left[:,0]\n",
    "pi_normalized = [(x/np.sum(pi)).real for x in pi]\n",
    "pi_normalized"
   ]
  },
  {
   "cell_type": "code",
   "execution_count": null,
   "id": "c200c364-0147-4c9d-b1e4-b730159c1ba6",
   "metadata": {},
   "outputs": [],
   "source": []
  },
  {
   "cell_type": "code",
   "execution_count": null,
   "id": "39564d8f-d8ee-48c5-8e2f-8f627cd93bef",
   "metadata": {},
   "outputs": [],
   "source": []
  },
  {
   "cell_type": "code",
   "execution_count": null,
   "id": "07db788f-5c33-48c7-b992-c97ee7bd33a8",
   "metadata": {},
   "outputs": [],
   "source": []
  },
  {
   "cell_type": "code",
   "execution_count": 45,
   "id": "16f87aa9-432e-470c-a19a-95fa67c47301",
   "metadata": {},
   "outputs": [
    {
     "data": {
      "text/plain": [
       "DatetimeIndex(['2022-10-01', '2022-10-02', '2022-10-03', '2022-10-04',\n",
       "               '2022-10-05', '2022-10-06', '2022-10-07', '2022-10-08',\n",
       "               '2022-10-09', '2022-10-10', '2022-10-11', '2022-10-12',\n",
       "               '2022-10-13', '2022-10-14', '2022-10-15', '2022-10-16',\n",
       "               '2022-10-17', '2022-10-18', '2022-10-19', '2022-10-20',\n",
       "               '2022-10-21', '2022-10-22', '2022-10-23', '2022-10-24',\n",
       "               '2022-10-25', '2022-10-26', '2022-10-27', '2022-10-28',\n",
       "               '2022-10-29', '2022-10-30', '2022-10-31'],\n",
       "              dtype='datetime64[ns]', freq='D')"
      ]
     },
     "execution_count": 45,
     "metadata": {},
     "output_type": "execute_result"
    }
   ],
   "source": [
    "#Generating the model\n",
    "import pandas as pd\n",
    "date_index = pd.date_range('10/1/2022', periods = 31, freq ='D')\n",
    "date_index"
   ]
  },
  {
   "cell_type": "code",
   "execution_count": 56,
   "id": "9dc54da8-e1a0-4153-bea0-a3d01aa9906c",
   "metadata": {},
   "outputs": [
    {
     "data": {
      "text/html": [
       "<div>\n",
       "<style scoped>\n",
       "    .dataframe tbody tr th:only-of-type {\n",
       "        vertical-align: middle;\n",
       "    }\n",
       "\n",
       "    .dataframe tbody tr th {\n",
       "        vertical-align: top;\n",
       "    }\n",
       "\n",
       "    .dataframe thead th {\n",
       "        text-align: right;\n",
       "    }\n",
       "</style>\n",
       "<table border=\"1\" class=\"dataframe\">\n",
       "  <thead>\n",
       "    <tr style=\"text-align: right;\">\n",
       "      <th></th>\n",
       "      <th>Temperatures</th>\n",
       "      <th>Type</th>\n",
       "    </tr>\n",
       "  </thead>\n",
       "  <tbody>\n",
       "    <tr>\n",
       "      <th>2022-10-01</th>\n",
       "      <td>70.5</td>\n",
       "      <td>Hot</td>\n",
       "    </tr>\n",
       "    <tr>\n",
       "      <th>2022-10-02</th>\n",
       "      <td>69.5</td>\n",
       "      <td>Okay</td>\n",
       "    </tr>\n",
       "    <tr>\n",
       "      <th>2022-10-03</th>\n",
       "      <td>67.0</td>\n",
       "      <td>Okay</td>\n",
       "    </tr>\n",
       "    <tr>\n",
       "      <th>2022-10-04</th>\n",
       "      <td>70.5</td>\n",
       "      <td>Hot</td>\n",
       "    </tr>\n",
       "    <tr>\n",
       "      <th>2022-10-05</th>\n",
       "      <td>69.0</td>\n",
       "      <td>Okay</td>\n",
       "    </tr>\n",
       "    <tr>\n",
       "      <th>2022-10-06</th>\n",
       "      <td>69.0</td>\n",
       "      <td>Okay</td>\n",
       "    </tr>\n",
       "    <tr>\n",
       "      <th>2022-10-07</th>\n",
       "      <td>70.5</td>\n",
       "      <td>Hot</td>\n",
       "    </tr>\n",
       "    <tr>\n",
       "      <th>2022-10-08</th>\n",
       "      <td>69.0</td>\n",
       "      <td>Okay</td>\n",
       "    </tr>\n",
       "    <tr>\n",
       "      <th>2022-10-09</th>\n",
       "      <td>67.5</td>\n",
       "      <td>Okay</td>\n",
       "    </tr>\n",
       "    <tr>\n",
       "      <th>2022-10-10</th>\n",
       "      <td>68.0</td>\n",
       "      <td>Okay</td>\n",
       "    </tr>\n",
       "    <tr>\n",
       "      <th>2022-10-11</th>\n",
       "      <td>70.0</td>\n",
       "      <td>Okay</td>\n",
       "    </tr>\n",
       "    <tr>\n",
       "      <th>2022-10-12</th>\n",
       "      <td>71.5</td>\n",
       "      <td>Hot</td>\n",
       "    </tr>\n",
       "    <tr>\n",
       "      <th>2022-10-13</th>\n",
       "      <td>68.0</td>\n",
       "      <td>Okay</td>\n",
       "    </tr>\n",
       "    <tr>\n",
       "      <th>2022-10-14</th>\n",
       "      <td>66.5</td>\n",
       "      <td>Okay</td>\n",
       "    </tr>\n",
       "    <tr>\n",
       "      <th>2022-10-15</th>\n",
       "      <td>65.5</td>\n",
       "      <td>Okay</td>\n",
       "    </tr>\n",
       "    <tr>\n",
       "      <th>2022-10-16</th>\n",
       "      <td>65.5</td>\n",
       "      <td>Okay</td>\n",
       "    </tr>\n",
       "    <tr>\n",
       "      <th>2022-10-17</th>\n",
       "      <td>67.0</td>\n",
       "      <td>Okay</td>\n",
       "    </tr>\n",
       "    <tr>\n",
       "      <th>2022-10-18</th>\n",
       "      <td>73.0</td>\n",
       "      <td>Hot</td>\n",
       "    </tr>\n",
       "    <tr>\n",
       "      <th>2022-10-19</th>\n",
       "      <td>80.0</td>\n",
       "      <td>Hot</td>\n",
       "    </tr>\n",
       "    <tr>\n",
       "      <th>2022-10-20</th>\n",
       "      <td>79.5</td>\n",
       "      <td>Hot</td>\n",
       "    </tr>\n",
       "    <tr>\n",
       "      <th>2022-10-21</th>\n",
       "      <td>71.5</td>\n",
       "      <td>Hot</td>\n",
       "    </tr>\n",
       "    <tr>\n",
       "      <th>2022-10-22</th>\n",
       "      <td>66.5</td>\n",
       "      <td>Okay</td>\n",
       "    </tr>\n",
       "    <tr>\n",
       "      <th>2022-10-23</th>\n",
       "      <td>64.0</td>\n",
       "      <td>Cold</td>\n",
       "    </tr>\n",
       "    <tr>\n",
       "      <th>2022-10-24</th>\n",
       "      <td>65.5</td>\n",
       "      <td>Okay</td>\n",
       "    </tr>\n",
       "    <tr>\n",
       "      <th>2022-10-25</th>\n",
       "      <td>65.5</td>\n",
       "      <td>Okay</td>\n",
       "    </tr>\n",
       "    <tr>\n",
       "      <th>2022-10-26</th>\n",
       "      <td>64.0</td>\n",
       "      <td>Cold</td>\n",
       "    </tr>\n",
       "    <tr>\n",
       "      <th>2022-10-27</th>\n",
       "      <td>65.5</td>\n",
       "      <td>Okay</td>\n",
       "    </tr>\n",
       "    <tr>\n",
       "      <th>2022-10-28</th>\n",
       "      <td>66.5</td>\n",
       "      <td>Okay</td>\n",
       "    </tr>\n",
       "    <tr>\n",
       "      <th>2022-10-29</th>\n",
       "      <td>64.0</td>\n",
       "      <td>Cold</td>\n",
       "    </tr>\n",
       "    <tr>\n",
       "      <th>2022-10-30</th>\n",
       "      <td>67.0</td>\n",
       "      <td>Okay</td>\n",
       "    </tr>\n",
       "  </tbody>\n",
       "</table>\n",
       "</div>"
      ],
      "text/plain": [
       "            Temperatures  Type\n",
       "2022-10-01          70.5   Hot\n",
       "2022-10-02          69.5  Okay\n",
       "2022-10-03          67.0  Okay\n",
       "2022-10-04          70.5   Hot\n",
       "2022-10-05          69.0  Okay\n",
       "2022-10-06          69.0  Okay\n",
       "2022-10-07          70.5   Hot\n",
       "2022-10-08          69.0  Okay\n",
       "2022-10-09          67.5  Okay\n",
       "2022-10-10          68.0  Okay\n",
       "2022-10-11          70.0  Okay\n",
       "2022-10-12          71.5   Hot\n",
       "2022-10-13          68.0  Okay\n",
       "2022-10-14          66.5  Okay\n",
       "2022-10-15          65.5  Okay\n",
       "2022-10-16          65.5  Okay\n",
       "2022-10-17          67.0  Okay\n",
       "2022-10-18          73.0   Hot\n",
       "2022-10-19          80.0   Hot\n",
       "2022-10-20          79.5   Hot\n",
       "2022-10-21          71.5   Hot\n",
       "2022-10-22          66.5  Okay\n",
       "2022-10-23          64.0  Cold\n",
       "2022-10-24          65.5  Okay\n",
       "2022-10-25          65.5  Okay\n",
       "2022-10-26          64.0  Cold\n",
       "2022-10-27          65.5  Okay\n",
       "2022-10-28          66.5  Okay\n",
       "2022-10-29          64.0  Cold\n",
       "2022-10-30          67.0  Okay"
      ]
     },
     "execution_count": 56,
     "metadata": {},
     "output_type": "execute_result"
    }
   ],
   "source": [
    "avg_temp_data = [70.5,69.5,67,70.5,69,69,70.5,69,67.5,68,70,71.5,68,66.5,65.5,65.5,67,73,80,79.5,71.5,66.5,64,65.5,65.5,64,65.5,66.5,64,67]\n",
    "type_list = []\n",
    "for i in avg_temp_data:\n",
    "    if i > 70:\n",
    "        type_list.append(\"Hot\")\n",
    "    elif i > 65:\n",
    "        type_list.append(\"Okay\")\n",
    "    else:\n",
    "        type_list.append(\"Cold\")\n",
    "df = pd.DataFrame({\"Temperatures\":avg_temp_data, \"Type\":type_list}, index = data_index)\n",
    "df"
   ]
  }
 ],
 "metadata": {
  "kernelspec": {
   "display_name": "Python 3.9.6 64-bit",
   "language": "python",
   "name": "python3"
  },
  "language_info": {
   "codemirror_mode": {
    "name": "ipython",
    "version": 3
   },
   "file_extension": ".py",
   "mimetype": "text/x-python",
   "name": "python",
   "nbconvert_exporter": "python",
   "pygments_lexer": "ipython3",
   "version": "3.9.6"
  },
  "vscode": {
   "interpreter": {
    "hash": "31f2aee4e71d21fbe5cf8b01ff0e069b9275f58929596ceb00d14d90e3e16cd6"
   }
  }
 },
 "nbformat": 4,
 "nbformat_minor": 5
}
